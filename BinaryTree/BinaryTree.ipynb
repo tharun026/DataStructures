{
 "cells": [
  {
   "cell_type": "code",
   "execution_count": 97,
   "metadata": {},
   "outputs": [],
   "source": [
    "from multiprocessing import Queue\n",
    "\n",
    "class BinaryTree:\n",
    "    def __init__(self, value):\n",
    "        self.value = value\n",
    "        self.left_child = None\n",
    "        self.right_child = None\n",
    "        \n",
    "    def insert_left(self, value):\n",
    "        if self.left_child == None:\n",
    "            self.left_child = BinaryTree(value)\n",
    "        else:\n",
    "            new_node = BinaryTree(value)\n",
    "            new_node.left_child = self.left_child\n",
    "            self.left_child = new_node\n",
    "    \n",
    "    def insert_right(self,value):\n",
    "        if self.right_child == None:\n",
    "            self.right_child = BinaryTree(value)\n",
    "        else:\n",
    "            new_node = BinaryTree(value)\n",
    "            new_node.right_child = self.right_child\n",
    "            self.right_child = new_node\n",
    "    \n",
    "    def pre_order(self):\n",
    "        print(self.value)\n",
    "        \n",
    "        if self.left_child != None:\n",
    "            self.left_child.pre_order()\n",
    "        \n",
    "        if self.right_child != None:\n",
    "            self.right_child.pre_order()\n",
    "    \n",
    "    def in_order(self):\n",
    "        if self.left_child:\n",
    "            self.left_child.in_order()\n",
    "        \n",
    "        print(self.value)\n",
    "        \n",
    "        if self.right_child:\n",
    "            self.right_child.in_order()\n",
    "    \n",
    "    def post_order(self):\n",
    "        if self.left_child:\n",
    "            self.left_child.post_order()\n",
    "        \n",
    "        if self.right_child:\n",
    "            self.right_child.post_order()\n",
    "            \n",
    "        print(self.value)\n",
    "        \n",
    "    def breadth_first_search(self):\n",
    "        queue = Queue()\n",
    "        queue.put(self)\n",
    "        print(queue)        \n",
    "        \n",
    "        while not queue.empty():\n",
    "            current_node = queue.get()\n",
    "            print(current_node.value)\n",
    "            \n",
    "            if current_node.left_child:\n",
    "                queue.put(current_node.left_child)\n",
    "                print(queue)\n",
    "            \n",
    "            if current_node.right_child:\n",
    "                queue.put(current_node.right_child)\n",
    "                print(queue)\n",
    "        "
   ]
  },
  {
   "cell_type": "code",
   "execution_count": 98,
   "metadata": {},
   "outputs": [
    {
     "name": "stdout",
     "output_type": "stream",
     "text": [
      "a\n",
      "None\n",
      "None\n"
     ]
    }
   ],
   "source": [
    "tree = BinaryTree('a')\n",
    "print(tree.value)\n",
    "print(tree.left_child)\n",
    "print(tree.right_child)"
   ]
  },
  {
   "cell_type": "code",
   "execution_count": 99,
   "metadata": {},
   "outputs": [
    {
     "name": "stdout",
     "output_type": "stream",
     "text": [
      "a\n",
      "b\n",
      "c\n",
      "d\n",
      "e\n",
      "f\n"
     ]
    }
   ],
   "source": [
    "a_node = BinaryTree('a')\n",
    "a_node.insert_left('b')\n",
    "a_node.insert_right('c')\n",
    "\n",
    "b_node = a_node.left_child\n",
    "b_node.insert_right('d')\n",
    "\n",
    "c_node = a_node.right_child\n",
    "c_node.insert_left('e')\n",
    "c_node.insert_right('f')\n",
    "\n",
    "d_node = b_node.right_child\n",
    "e_node = c_node.left_child\n",
    "f_node = c_node.right_child\n",
    "\n",
    "print(a_node.value)\n",
    "print(b_node.value)\n",
    "print(c_node.value)\n",
    "print(d_node.value)\n",
    "print(e_node.value)\n",
    "print(f_node.value)"
   ]
  },
  {
   "cell_type": "code",
   "execution_count": 100,
   "metadata": {},
   "outputs": [
    {
     "name": "stdout",
     "output_type": "stream",
     "text": [
      "b\n",
      "d\n",
      "a\n",
      "e\n",
      "c\n",
      "f\n"
     ]
    }
   ],
   "source": [
    "a_node.in_order()"
   ]
  },
  {
   "cell_type": "code",
   "execution_count": 101,
   "metadata": {},
   "outputs": [
    {
     "name": "stdout",
     "output_type": "stream",
     "text": [
      "a\n",
      "b\n",
      "d\n",
      "c\n",
      "e\n",
      "f\n"
     ]
    }
   ],
   "source": [
    "a_node.pre_order()"
   ]
  },
  {
   "cell_type": "code",
   "execution_count": 102,
   "metadata": {},
   "outputs": [
    {
     "name": "stdout",
     "output_type": "stream",
     "text": [
      "d\n",
      "b\n",
      "e\n",
      "f\n",
      "c\n",
      "a\n"
     ]
    }
   ],
   "source": [
    "a_node.post_order()"
   ]
  },
  {
   "cell_type": "code",
   "execution_count": 103,
   "metadata": {},
   "outputs": [
    {
     "name": "stdout",
     "output_type": "stream",
     "text": [
      "<multiprocessing.queues.Queue object at 0x0000023D098A2080>\n"
     ]
    },
    {
     "name": "stderr",
     "output_type": "stream",
     "text": [
      "Traceback (most recent call last):\n",
      "  File \"C:\\ProgramData\\Anaconda3\\lib\\multiprocessing\\queues.py\", line 238, in _feed\n",
      "    send_bytes(obj)\n",
      "  File \"C:\\ProgramData\\Anaconda3\\lib\\multiprocessing\\connection.py\", line 200, in send_bytes\n",
      "    self._send_bytes(m[offset:offset + size])\n",
      "  File \"C:\\ProgramData\\Anaconda3\\lib\\multiprocessing\\connection.py\", line 280, in _send_bytes\n",
      "    ov, err = _winapi.WriteFile(self._handle, buf, overlapped=True)\n",
      "BrokenPipeError: [WinError 232] The pipe is being closed\n"
     ]
    }
   ],
   "source": [
    "a_node.breadth_first_search()"
   ]
  },
  {
   "cell_type": "code",
   "execution_count": null,
   "metadata": {},
   "outputs": [],
   "source": []
  }
 ],
 "metadata": {
  "kernelspec": {
   "display_name": "Python 3",
   "language": "python",
   "name": "python3"
  },
  "language_info": {
   "codemirror_mode": {
    "name": "ipython",
    "version": 3
   },
   "file_extension": ".py",
   "mimetype": "text/x-python",
   "name": "python",
   "nbconvert_exporter": "python",
   "pygments_lexer": "ipython3",
   "version": "3.7.3"
  }
 },
 "nbformat": 4,
 "nbformat_minor": 2
}
