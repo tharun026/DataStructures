{
 "cells": [
  {
   "cell_type": "code",
   "execution_count": null,
   "metadata": {},
   "outputs": [],
   "source": [
    "class BinarySearchTree:\n",
    "    \n",
    "    def __init__(self, value):\n",
    "        self.value = value\n",
    "        self.left_child = None\n",
    "        self.right_child = None\n",
    "    \n",
    "    def insert_node(self, value):\n",
    "        if value <= self.value and self.left_child:\n",
    "            self.left_child.insert_node(value)\n",
    "            \n",
    "        elif value <= self.value:\n",
    "            self.left_child = BinarySearchTree(value)\n",
    "        \n",
    "        elif value > self.value and self.right_child:\n",
    "            self.right_child.insert_node(value)\n",
    "        \n",
    "        else:\n",
    "            self.right_child = BinarySearchTree(value)\n",
    "        \n",
    "        \n",
    "        \n",
    "    "
   ]
  }
 ],
 "metadata": {
  "kernelspec": {
   "display_name": "Python 3",
   "language": "python",
   "name": "python3"
  },
  "language_info": {
   "codemirror_mode": {
    "name": "ipython",
    "version": 3
   },
   "file_extension": ".py",
   "mimetype": "text/x-python",
   "name": "python",
   "nbconvert_exporter": "python",
   "pygments_lexer": "ipython3",
   "version": "3.7.3"
  }
 },
 "nbformat": 4,
 "nbformat_minor": 2
}
