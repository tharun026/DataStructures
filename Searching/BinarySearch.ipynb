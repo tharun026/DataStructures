{
 "cells": [
  {
   "cell_type": "code",
   "execution_count": 93,
   "metadata": {},
   "outputs": [],
   "source": [
    "input_array = [0,1,2,3,4,5,6,7,8,9]\n",
    "value_to_search = -1"
   ]
  },
  {
   "cell_type": "code",
   "execution_count": 113,
   "metadata": {},
   "outputs": [],
   "source": [
    "def BinarySearch(input_array, value_to_search):\n",
    "    #print(input_array)\n",
    "    exists = \"false\"\n",
    "    if value_to_search < input_array[0] or value_to_search > input_array[len(input_array)-1]:\n",
    "        print(\"loop1\")\n",
    "        exists = \"false\"\n",
    "    elif value_to_search == input_array[0] or value_to_search == input_array[len(input_array)-1]:\n",
    "        print(\"loop2\")\n",
    "        exists = \"true\"\n",
    "    else:\n",
    "        print(\"loop3\")\n",
    "        start = 0\n",
    "        end = len(input_array)\n",
    "        mid = int((end + start)/2)\n",
    "        #print(start, end, mid)\n",
    "        #print(value_to_search)\n",
    "        while(start!=mid and end!=mid):\n",
    "            #print(input_array[start:end])\n",
    "            if mid == value_to_search:\n",
    "                #print(1)\n",
    "                exists = \"true\"\n",
    "                break\n",
    "            elif value_to_search < mid:\n",
    "                #print(2)\n",
    "                end = mid\n",
    "            else:\n",
    "                #print(3)\n",
    "                start = mid\n",
    "            mid = int((end + start)/2)\n",
    "            #print(start, end, mid)\n",
    "    print(exists)\n",
    "        "
   ]
  },
  {
   "cell_type": "code",
   "execution_count": 114,
   "metadata": {},
   "outputs": [
    {
     "name": "stdout",
     "output_type": "stream",
     "text": [
      "loop1\n",
      "false\n"
     ]
    }
   ],
   "source": [
    "BinarySearch(input_array, value_to_search)"
   ]
  },
  {
   "cell_type": "code",
   "execution_count": null,
   "metadata": {},
   "outputs": [],
   "source": []
  },
  {
   "cell_type": "code",
   "execution_count": null,
   "metadata": {},
   "outputs": [],
   "source": []
  }
 ],
 "metadata": {
  "kernelspec": {
   "display_name": "Python 3",
   "language": "python",
   "name": "python3"
  },
  "language_info": {
   "codemirror_mode": {
    "name": "ipython",
    "version": 3
   },
   "file_extension": ".py",
   "mimetype": "text/x-python",
   "name": "python",
   "nbconvert_exporter": "python",
   "pygments_lexer": "ipython3",
   "version": "3.7.3"
  }
 },
 "nbformat": 4,
 "nbformat_minor": 2
}
