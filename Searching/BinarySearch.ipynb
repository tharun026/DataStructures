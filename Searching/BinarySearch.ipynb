{
 "cells": [
  {
   "cell_type": "code",
   "execution_count": 3,
   "metadata": {},
   "outputs": [],
   "source": [
    "input_array = [0,1,2,3,4,5,6,7,8,9]\n",
    "value_to_search = -1"
   ]
  },
  {
   "cell_type": "code",
   "execution_count": 4,
   "metadata": {},
   "outputs": [],
   "source": [
    "def BinarySearch(input_array, value_to_search):\n",
    "    exists = \"false\"\n",
    "    if value_to_search < input_array[0] or value_to_search > input_array[len(input_array)-1]:\n",
    "        exists = \"false\"\n",
    "    elif value_to_search == input_array[0] or value_to_search == input_array[len(input_array)-1]:\n",
    "        exists = \"true\"\n",
    "    else:\n",
    "        start = 0; end = len(input_array); mid = int((end + start)/2)\n",
    "        while(start!=mid and end!=mid):\n",
    "            if mid == value_to_search:\n",
    "                exists = \"true\"; break\n",
    "            elif value_to_search < mid:\n",
    "                end = mid\n",
    "            else:\n",
    "                start = mid\n",
    "            mid = int((end + start)/2)\n",
    "    print(exists)\n",
    "        "
   ]
  },
  {
   "cell_type": "code",
   "execution_count": 5,
   "metadata": {},
   "outputs": [
    {
     "name": "stdout",
     "output_type": "stream",
     "text": [
      "false\n"
     ]
    }
   ],
   "source": [
    "BinarySearch(input_array, value_to_search)"
   ]
  },
  {
   "cell_type": "code",
   "execution_count": 6,
   "metadata": {},
   "outputs": [
    {
     "name": "stdout",
     "output_type": "stream",
     "text": [
      "true\n",
      "false\n",
      "true\n",
      "false\n",
      "true\n",
      "true\n"
     ]
    }
   ],
   "source": [
    "values_to_search = [5,10,0,-2,9,2]\n",
    "for i in values_to_search:\n",
    "    BinarySearch(input_array, i)"
   ]
  },
  {
   "cell_type": "code",
   "execution_count": null,
   "metadata": {},
   "outputs": [],
   "source": []
  },
  {
   "cell_type": "code",
   "execution_count": null,
   "metadata": {},
   "outputs": [],
   "source": []
  }
 ],
 "metadata": {
  "kernelspec": {
   "display_name": "Python 3",
   "language": "python",
   "name": "python3"
  },
  "language_info": {
   "codemirror_mode": {
    "name": "ipython",
    "version": 3
   },
   "file_extension": ".py",
   "mimetype": "text/x-python",
   "name": "python",
   "nbconvert_exporter": "python",
   "pygments_lexer": "ipython3",
   "version": "3.7.3"
  }
 },
 "nbformat": 4,
 "nbformat_minor": 2
}
