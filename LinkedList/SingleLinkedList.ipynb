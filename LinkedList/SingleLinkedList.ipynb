{
 "cells": [
  {
   "cell_type": "code",
   "execution_count": 20,
   "metadata": {},
   "outputs": [
    {
     "name": "stdout",
     "output_type": "stream",
     "text": [
      "1 <__main__.Node object at 0x0000027A089859B0> <__main__.Node object at 0x0000027A08985940>\n",
      "2 <__main__.Node object at 0x0000027A08985940> <__main__.Node object at 0x0000027A089859E8>\n",
      "3 <__main__.Node object at 0x0000027A089859E8> <__main__.Node object at 0x0000027A08985A20>\n",
      "4 <__main__.Node object at 0x0000027A08985A20> None\n",
      "1 <__main__.Node object at 0x0000027A089859B0> <__main__.Node object at 0x0000027A08985940>\n",
      "i'm here\n",
      "2 <__main__.Node object at 0x0000027A08985940> <__main__.Node object at 0x0000027A089859E8>\n",
      "3 <__main__.Node object at 0x0000027A089859E8> <__main__.Node object at 0x0000027A08985A20>\n"
     ]
    }
   ],
   "source": [
    "class Node:\n",
    "    def __init__(self, data):\n",
    "        self.data = data\n",
    "        self.next = None\n",
    "    \n",
    "class LinkedList:\n",
    "    def __init__(self):\n",
    "        self.head = None\n",
    "        self.tail = None\n",
    "        \n",
    "    def printLinkedList(self):\n",
    "        temp = self.head\n",
    "        while temp is not None:\n",
    "            print(temp.data, temp, temp.next)\n",
    "            temp = temp.next\n",
    "    \n",
    "    def append(self, data):\n",
    "        node = Node(data)\n",
    "        if self.head is None:\n",
    "            self.head = self.tail = node\n",
    "        else:\n",
    "            self.tail.next = node\n",
    "        self.tail = node   \n",
    "        \n",
    "    def delete(self, data):\n",
    "        current_node = self.head\n",
    "        prev_node = None\n",
    "        \n",
    "        while current_node is not None:\n",
    "            if current_node.data == data:\n",
    "                if prev_node is not None:\n",
    "                    prev_node.next = current_node.next\n",
    "                else:\n",
    "                    self.head = current_node.next\n",
    "            prev_node = current_node\n",
    "            current_node = current_node.next\n",
    "            \n",
    "    def reverseSubLoop(self, current_data, prev_node):\n",
    "        a = []\n",
    "        \n",
    "    \n",
    "    def reverseLinkedList(self):\n",
    "        current_node = self.head\n",
    "        next_node = current_node.next\n",
    "        prev_node = None\n",
    "        #print(current_node, next_node)\n",
    "        while next_node is not None:\n",
    "            if current_node.data%2 == 0:\n",
    "                self.reverseSubLoop(current_node.data, prev_node)\n",
    "            print(current_node.data, current_node, next_node)\n",
    "            prev_node = current_node\n",
    "            current_node = next_node\n",
    "            next_node = current_node.next\n",
    "        \n",
    "            \n",
    "        \n",
    "if __name__ == \"__main__\":\n",
    "    singleLinkedList = LinkedList()\n",
    "    singleLinkedList.append(1)\n",
    "    singleLinkedList.append(2)\n",
    "    singleLinkedList.append(3)\n",
    "    singleLinkedList.append(4)\n",
    "    \n",
    "    singleLinkedList.printLinkedList()\n",
    "    \n",
    "#     singleLinkedList.delete(2)\n",
    "    \n",
    "#     singleLinkedList.printLinkedList()\n",
    "    \n",
    "    singleLinkedList.reverseLinkedList()"
   ]
  },
  {
   "cell_type": "code",
   "execution_count": null,
   "metadata": {},
   "outputs": [],
   "source": []
  },
  {
   "cell_type": "code",
   "execution_count": null,
   "metadata": {},
   "outputs": [],
   "source": []
  }
 ],
 "metadata": {
  "kernelspec": {
   "display_name": "Python 3",
   "language": "python",
   "name": "python3"
  },
  "language_info": {
   "codemirror_mode": {
    "name": "ipython",
    "version": 3
   },
   "file_extension": ".py",
   "mimetype": "text/x-python",
   "name": "python",
   "nbconvert_exporter": "python",
   "pygments_lexer": "ipython3",
   "version": "3.7.3"
  }
 },
 "nbformat": 4,
 "nbformat_minor": 2
}
