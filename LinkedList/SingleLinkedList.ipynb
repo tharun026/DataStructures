{
 "cells": [
  {
   "cell_type": "code",
   "execution_count": 16,
   "metadata": {},
   "outputs": [
    {
     "name": "stdout",
     "output_type": "stream",
     "text": [
      "1 <__main__.Node object at 0x0000021F4D8953C8> <__main__.Node object at 0x0000021F4D7CEA90>\n",
      "2 <__main__.Node object at 0x0000021F4D7CEA90> <__main__.Node object at 0x0000021F4D879F28>\n",
      "3 <__main__.Node object at 0x0000021F4D879F28> <__main__.Node object at 0x0000021F4D8794A8>\n",
      "4 <__main__.Node object at 0x0000021F4D8794A8> None\n",
      "1 <__main__.Node object at 0x0000021F4D8953C8> <__main__.Node object at 0x0000021F4D879F28>\n",
      "3 <__main__.Node object at 0x0000021F4D879F28> <__main__.Node object at 0x0000021F4D8794A8>\n",
      "4 <__main__.Node object at 0x0000021F4D8794A8> None\n"
     ]
    }
   ],
   "source": [
    "class Node:\n",
    "    def __init__(self, data):\n",
    "        self.data = data\n",
    "        self.next = None\n",
    "    \n",
    "class LinkedList:\n",
    "    def __init__(self):\n",
    "        self.head = None\n",
    "        self.tail = None\n",
    "        \n",
    "    def printLinkedList(self):\n",
    "        temp = self.head\n",
    "        while temp is not None:\n",
    "            print(temp.data, temp, temp.next)\n",
    "            temp = temp.next\n",
    "    \n",
    "    def append(self, data):\n",
    "        node = Node(data)\n",
    "        if self.head is None:\n",
    "            self.head = self.tail = node\n",
    "        else:\n",
    "            self.tail.next = node\n",
    "        self.tail = node   \n",
    "        \n",
    "    def delete(self, data):\n",
    "        current_node = self.head\n",
    "        prev_node = None\n",
    "        \n",
    "        while current_node is not None:\n",
    "            if current_node.data == data:\n",
    "                if prev_node is not None:\n",
    "                    prev_node.next = current_node.next\n",
    "                else:\n",
    "                    self.head = current_node.next\n",
    "            prev_node = current_node\n",
    "            current_node = current_node.next\n",
    "            \n",
    "        \n",
    "if __name__ == \"__main__\":\n",
    "    singleLinkedList = LinkedList()\n",
    "    singleLinkedList.append(1)\n",
    "    singleLinkedList.append(2)\n",
    "    singleLinkedList.append(3)\n",
    "    singleLinkedList.append(4)\n",
    "    \n",
    "    singleLinkedList.printLinkedList()\n",
    "    \n",
    "    singleLinkedList.delete(2)\n",
    "    \n",
    "    singleLinkedList.printLinkedList()"
   ]
  },
  {
   "cell_type": "code",
   "execution_count": null,
   "metadata": {},
   "outputs": [],
   "source": []
  },
  {
   "cell_type": "code",
   "execution_count": null,
   "metadata": {},
   "outputs": [],
   "source": []
  }
 ],
 "metadata": {
  "kernelspec": {
   "display_name": "Python 3",
   "language": "python",
   "name": "python3"
  },
  "language_info": {
   "codemirror_mode": {
    "name": "ipython",
    "version": 3
   },
   "file_extension": ".py",
   "mimetype": "text/x-python",
   "name": "python",
   "nbconvert_exporter": "python",
   "pygments_lexer": "ipython3",
   "version": "3.7.3"
  }
 },
 "nbformat": 4,
 "nbformat_minor": 2
}
