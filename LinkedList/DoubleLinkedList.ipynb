{
 "cells": [
  {
   "cell_type": "code",
   "execution_count": 2,
   "metadata": {},
   "outputs": [
    {
     "name": "stdout",
     "output_type": "stream",
     "text": [
      "1 <__main__.Node object at 0x0000028583562208>\n",
      "2 <__main__.Node object at 0x00000285835621D0>\n",
      "3 <__main__.Node object at 0x00000285835620F0>\n"
     ]
    }
   ],
   "source": [
    "class Node:\n",
    "    def __init__(self, data = None, prev = None, next = None):\n",
    "        self.data = data\n",
    "        self.prev = prev\n",
    "        self.next = next\n",
    "    \n",
    "class LinkedList:\n",
    "    def __init__(self):\n",
    "        self.head = None\n",
    "        \n",
    "    def printLinkedList(self):\n",
    "        temp = self.head\n",
    "        while temp != None:\n",
    "            print(temp.data, temp)\n",
    "            temp = temp.next\n",
    "        \n",
    "if __name__ == \"__main__\":\n",
    "    singleLinkedList = LinkedList()\n",
    "    singleLinkedList.head = Node(1)\n",
    "    second = Node(2)\n",
    "    third = Node(3)\n",
    "    \n",
    "    singleLinkedList.head.next = second\n",
    "    second.next = third\n",
    "    \n",
    "    singleLinkedList.printLinkedList()"
   ]
  },
  {
   "cell_type": "code",
   "execution_count": null,
   "metadata": {},
   "outputs": [],
   "source": []
  }
 ],
 "metadata": {
  "kernelspec": {
   "display_name": "Python 3",
   "language": "python",
   "name": "python3"
  },
  "language_info": {
   "codemirror_mode": {
    "name": "ipython",
    "version": 3
   },
   "file_extension": ".py",
   "mimetype": "text/x-python",
   "name": "python",
   "nbconvert_exporter": "python",
   "pygments_lexer": "ipython3",
   "version": "3.7.3"
  }
 },
 "nbformat": 4,
 "nbformat_minor": 2
}
