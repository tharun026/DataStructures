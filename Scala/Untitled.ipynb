{
 "cells": [
  {
   "cell_type": "code",
   "execution_count": 1,
   "metadata": {},
   "outputs": [
    {
     "name": "stdout",
     "output_type": "stream",
     "text": [
      "Collecting spylon-kernel\n",
      "  Downloading https://files.pythonhosted.org/packages/3b/26/0c1c289ab535489b0e290461b0f2c45a00d2033a50a58a45f6d00c5fb205/spylon-kernel-0.4.1.tar.gz\n",
      "Requirement already satisfied: ipykernel in c:\\programdata\\anaconda3\\lib\\site-packages (from spylon-kernel) (5.1.0)\n",
      "Requirement already satisfied: jedi>=0.10 in c:\\programdata\\anaconda3\\lib\\site-packages (from spylon-kernel) (0.13.3)\n",
      "Collecting metakernel (from spylon-kernel)\n",
      "  Downloading https://files.pythonhosted.org/packages/ad/a9/0cd74cfbc9c4aeb117bdb7fd9ff12c3890be34ef5c77932e00ef4afaca98/metakernel-0.24.3-py2.py3-none-any.whl (208kB)\n",
      "Collecting spylon[spark] (from spylon-kernel)\n",
      "  Downloading https://files.pythonhosted.org/packages/a1/1b/236051a959a6cc76f5962e32aa743a31e77e3acd27a742e625d49eef4c7a/spylon-0.3.0.tar.gz (140kB)\n",
      "Requirement already satisfied: tornado in c:\\programdata\\anaconda3\\lib\\site-packages (from spylon-kernel) (6.0.2)\n",
      "Requirement already satisfied: jupyter-client in c:\\programdata\\anaconda3\\lib\\site-packages (from ipykernel->spylon-kernel) (5.2.4)\n",
      "Requirement already satisfied: traitlets>=4.1.0 in c:\\programdata\\anaconda3\\lib\\site-packages (from ipykernel->spylon-kernel) (4.3.2)\n",
      "Requirement already satisfied: ipython>=5.0.0 in c:\\programdata\\anaconda3\\lib\\site-packages (from ipykernel->spylon-kernel) (7.4.0)\n",
      "Requirement already satisfied: parso>=0.3.0 in c:\\programdata\\anaconda3\\lib\\site-packages (from jedi>=0.10->spylon-kernel) (0.3.4)\n",
      "Collecting pexpect>=4.2 (from metakernel->spylon-kernel)\n",
      "  Downloading https://files.pythonhosted.org/packages/0e/3e/377007e3f36ec42f1b84ec322ee12141a9e10d808312e5738f52f80a232c/pexpect-4.7.0-py2.py3-none-any.whl (58kB)\n",
      "Collecting ipyparallel (from metakernel->spylon-kernel)\n",
      "  Downloading https://files.pythonhosted.org/packages/3f/82/aaa7a357845a98d4028f27c799f0d3bb2fe55fc1247c73dc712b4ae2344c/ipyparallel-6.2.4-py2.py3-none-any.whl (198kB)\n",
      "Collecting portalocker (from metakernel->spylon-kernel)\n",
      "  Downloading https://files.pythonhosted.org/packages/91/db/7bc703c0760df726839e0699b7f78a4d8217fdc9c7fcb1b51b39c5a22a4e/portalocker-1.5.2-py2.py3-none-any.whl\n",
      "Collecting findspark (from spylon[spark]->spylon-kernel)\n",
      "  Downloading https://files.pythonhosted.org/packages/b1/c8/e6e1f6a303ae5122dc28d131b5a67c5eb87cbf8f7ac5b9f87764ea1b1e1e/findspark-1.3.0-py2.py3-none-any.whl\n",
      "Requirement already satisfied: pyyaml in c:\\programdata\\anaconda3\\lib\\site-packages (from spylon[spark]->spylon-kernel) (5.1)\n",
      "Requirement already satisfied: jupyter-core in c:\\programdata\\anaconda3\\lib\\site-packages (from jupyter-client->ipykernel->spylon-kernel) (4.4.0)\n",
      "Requirement already satisfied: python-dateutil>=2.1 in c:\\programdata\\anaconda3\\lib\\site-packages (from jupyter-client->ipykernel->spylon-kernel) (2.8.0)\n",
      "Requirement already satisfied: pyzmq>=13 in c:\\programdata\\anaconda3\\lib\\site-packages (from jupyter-client->ipykernel->spylon-kernel) (18.0.0)\n",
      "Requirement already satisfied: six in c:\\programdata\\anaconda3\\lib\\site-packages (from traitlets>=4.1.0->ipykernel->spylon-kernel) (1.12.0)\n",
      "Requirement already satisfied: decorator in c:\\programdata\\anaconda3\\lib\\site-packages (from traitlets>=4.1.0->ipykernel->spylon-kernel) (4.4.0)\n",
      "Requirement already satisfied: ipython-genutils in c:\\programdata\\anaconda3\\lib\\site-packages (from traitlets>=4.1.0->ipykernel->spylon-kernel) (0.2.0)\n",
      "Requirement already satisfied: backcall in c:\\programdata\\anaconda3\\lib\\site-packages (from ipython>=5.0.0->ipykernel->spylon-kernel) (0.1.0)\n",
      "Requirement already satisfied: prompt-toolkit<2.1.0,>=2.0.0 in c:\\programdata\\anaconda3\\lib\\site-packages (from ipython>=5.0.0->ipykernel->spylon-kernel) (2.0.9)\n",
      "Requirement already satisfied: setuptools>=18.5 in c:\\programdata\\anaconda3\\lib\\site-packages (from ipython>=5.0.0->ipykernel->spylon-kernel) (40.8.0)\n",
      "Requirement already satisfied: pygments in c:\\programdata\\anaconda3\\lib\\site-packages (from ipython>=5.0.0->ipykernel->spylon-kernel) (2.3.1)\n",
      "Requirement already satisfied: pickleshare in c:\\programdata\\anaconda3\\lib\\site-packages (from ipython>=5.0.0->ipykernel->spylon-kernel) (0.7.5)\n",
      "Requirement already satisfied: colorama; sys_platform == \"win32\" in c:\\programdata\\anaconda3\\lib\\site-packages (from ipython>=5.0.0->ipykernel->spylon-kernel) (0.4.1)\n",
      "Collecting ptyprocess>=0.5 (from pexpect>=4.2->metakernel->spylon-kernel)\n",
      "  Downloading https://files.pythonhosted.org/packages/d1/29/605c2cc68a9992d18dada28206eeada56ea4bd07a239669da41674648b6f/ptyprocess-0.6.0-py2.py3-none-any.whl\n",
      "Requirement already satisfied: pywin32!=226; platform_system == \"Windows\" in c:\\programdata\\anaconda3\\lib\\site-packages (from portalocker->metakernel->spylon-kernel) (223)\n",
      "Requirement already satisfied: wcwidth in c:\\programdata\\anaconda3\\lib\\site-packages (from prompt-toolkit<2.1.0,>=2.0.0->ipython>=5.0.0->ipykernel->spylon-kernel) (0.1.7)\n",
      "Building wheels for collected packages: spylon-kernel, spylon\n",
      "  Building wheel for spylon-kernel (setup.py): started\n",
      "  Building wheel for spylon-kernel (setup.py): finished with status 'done'\n",
      "  Stored in directory: C:\\Users\\tsekar2\\AppData\\Local\\pip\\Cache\\wheels\\1c\\e6\\b3\\c9d20271bca97e9b79a3559f7a9a2a6a85722d62ea918cb135\n",
      "  Building wheel for spylon (setup.py): started\n",
      "  Building wheel for spylon (setup.py): finished with status 'done'\n",
      "  Stored in directory: C:\\Users\\tsekar2\\AppData\\Local\\pip\\Cache\\wheels\\ed\\02\\6c\\be6d52862a917faa5ec41195bb50116791ed2fc209e9d1c47a\n",
      "Successfully built spylon-kernel spylon\n",
      "Installing collected packages: ptyprocess, pexpect, ipyparallel, portalocker, metakernel, findspark, spylon, spylon-kernel\n",
      "Successfully installed findspark-1.3.0 ipyparallel-6.2.4 metakernel-0.24.3 pexpect-4.7.0 portalocker-1.5.2 ptyprocess-0.6.0 spylon-0.3.0 spylon-kernel-0.4.1\n",
      "Note: you may need to restart the kernel to use updated packages.\n"
     ]
    }
   ],
   "source": [
    "pip install spylon-kernel"
   ]
  },
  {
   "cell_type": "code",
   "execution_count": null,
   "metadata": {},
   "outputs": [],
   "source": []
  }
 ],
 "metadata": {
  "kernelspec": {
   "display_name": "Python 3",
   "language": "python",
   "name": "python3"
  },
  "language_info": {
   "codemirror_mode": {
    "name": "ipython",
    "version": 3
   },
   "file_extension": ".py",
   "mimetype": "text/x-python",
   "name": "python",
   "nbconvert_exporter": "python",
   "pygments_lexer": "ipython3",
   "version": "3.7.3"
  }
 },
 "nbformat": 4,
 "nbformat_minor": 2
}
