{
 "cells": [
  {
   "cell_type": "code",
   "execution_count": 3,
   "metadata": {},
   "outputs": [],
   "source": [
    "array = [-2, -5, 6, -2, -3, 1, 5, -6]"
   ]
  },
  {
   "cell_type": "code",
   "execution_count": 97,
   "metadata": {},
   "outputs": [],
   "source": [
    "def maxCrossingSubArraySum(array, low, middle, high):\n",
    "    sum = 0; left_sum = -10000\n",
    "    \n",
    "    for i in range(middle, low - 1, -1):\n",
    "        sum = sum + array[i]\n",
    "        if sum > left_sum:\n",
    "            left_sum = sum\n",
    "    \n",
    "    sum = 0; right_sum = -1000\n",
    "    \n",
    "    for i in range(middle + 1, high + 1):\n",
    "        sum = sum + array[i]\n",
    "        if sum > right_sum:\n",
    "            right_sum = sum\n",
    "    \n",
    "    return left_sum + right_sum"
   ]
  },
  {
   "cell_type": "code",
   "execution_count": 98,
   "metadata": {},
   "outputs": [],
   "source": [
    "def maxSubArraySum(array, low, high):\n",
    "    print(\"entry point\", low, high)\n",
    "    if low == high:\n",
    "        print(\"last one\", array[low])\n",
    "        return array[low]\n",
    "    \n",
    "    middle = (low + high)//2\n",
    "    print(\"recursion point\", low, middle, high)\n",
    "    \n",
    "    return max(maxSubArraySum(array, low, middle), maxSubArraySum(array, middle + 1, high))"
   ]
  },
  {
   "cell_type": "code",
   "execution_count": 16,
   "metadata": {},
   "outputs": [],
   "source": [
    "def kadanesAlgorithm(array):\n",
    "    max_so_far = max_ending_here = 0\n",
    "    for i in array:\n",
    "        print(i, max_so_far, max_ending_here)\n",
    "        max_so_far = max_so_far + i\n",
    "        if max_so_far < 0:\n",
    "            max_so_far = 0\n",
    "        elif max_so_far > max_ending_here:\n",
    "            max_ending_here = max_so_far\n",
    "        print(i, max_so_far, max_ending_here)\n",
    "    return max_ending_here"
   ]
  },
  {
   "cell_type": "code",
   "execution_count": 17,
   "metadata": {},
   "outputs": [
    {
     "name": "stdout",
     "output_type": "stream",
     "text": [
      "-2 0 0\n",
      "-2 0 0\n",
      "-5 0 0\n",
      "-5 0 0\n",
      "6 0 0\n",
      "6 6 6\n",
      "-2 6 6\n",
      "-2 4 6\n",
      "-3 4 6\n",
      "-3 1 6\n",
      "1 1 6\n",
      "1 2 6\n",
      "5 2 6\n",
      "5 7 7\n",
      "-6 7 7\n",
      "-6 1 7\n",
      "7\n"
     ]
    }
   ],
   "source": [
    "print(kadanesAlgorithm(array))"
   ]
  },
  {
   "cell_type": "code",
   "execution_count": null,
   "metadata": {},
   "outputs": [],
   "source": []
  }
 ],
 "metadata": {
  "kernelspec": {
   "display_name": "Python 3",
   "language": "python",
   "name": "python3"
  },
  "language_info": {
   "codemirror_mode": {
    "name": "ipython",
    "version": 3
   },
   "file_extension": ".py",
   "mimetype": "text/x-python",
   "name": "python",
   "nbconvert_exporter": "python",
   "pygments_lexer": "ipython3",
   "version": "3.7.3"
  }
 },
 "nbformat": 4,
 "nbformat_minor": 2
}
